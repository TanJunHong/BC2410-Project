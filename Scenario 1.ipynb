{
 "cells": [
  {
   "cell_type": "markdown",
   "metadata": {
    "collapsed": true,
    "pycharm": {
     "name": "#%% md\n"
    }
   },
   "source": [
    "# Scenario 1 - Passive Manager: Choosing Initial Squad\n",
    "## Import required libraries"
   ]
  },
  {
   "cell_type": "code",
   "execution_count": null,
   "metadata": {
    "pycharm": {
     "name": "#%%\n"
    }
   },
   "outputs": [],
   "source": [
    "import numpy\n",
    "import pandas\n",
    "from fuzzywuzzy import process\n",
    "from sklearn.preprocessing import LabelEncoder\n",
    "from sklearn.preprocessing import OneHotEncoder\n",
    "from rsome import ro\n",
    "from rsome import grb_solver"
   ]
  },
  {
   "cell_type": "markdown",
   "metadata": {
    "pycharm": {
     "name": "#%% md\n"
    }
   },
   "source": [
    "## 1. Data Cleaning\n",
    "### Import data"
   ]
  },
  {
   "cell_type": "code",
   "execution_count": null,
   "metadata": {
    "pycharm": {
     "name": "#%%\n"
    }
   },
   "outputs": [],
   "source": [
    "epl20_21_df = pandas.read_csv(filepath_or_buffer='./raw_data/scenario_1/EPL_20_21.csv')\n",
    "players_raw_list = [pandas.read_csv(filepath_or_buffer='./raw_data/scenario_1/players_raw_' + str(i) + '_' + str(i + 1) + '.csv') for i in range(16, 21)]\n",
    "\n",
    "# Filter columns\n",
    "for i in range(len(players_raw_list)):\n",
    "    players_raw_list[i] = players_raw_list[i][['first_name', 'second_name', 'team', 'total_points']]\n",
    "\n",
    "# Read in only required columns\n",
    "fifa_df_list = [pandas.read_csv(filepath_or_buffer='./raw_data/scenario_1/players_21.csv', usecols=[3, 9, 16]), pandas.read_csv(filepath_or_buffer='./raw_data/scenario_1/FIFA21_official_data.csv', usecols=[1, 8, 20]), pandas.read_csv(filepath_or_buffer='./raw_data/scenario_1/fifa21_male2.csv', usecols=[1, 5, 7])]\n",
    "fifa_df_list[0]"
   ]
  },
  {
   "cell_type": "markdown",
   "metadata": {
    "pycharm": {
     "name": "#%% md\n"
    }
   },
   "source": [
    "### Rename columns to standardise"
   ]
  },
  {
   "cell_type": "code",
   "execution_count": null,
   "metadata": {
    "pycharm": {
     "name": "#%%\n"
    }
   },
   "outputs": [],
   "source": [
    "fifa_df_list[0].rename(columns={'long_name': 'Name'}, inplace=True)\n",
    "fifa_df_list[0].rename(columns={'club_name': 'Club'}, inplace=True)\n",
    "fifa_df_list[0].rename(columns={'player_positions': 'Position'}, inplace=True)\n",
    "\n",
    "fifa_df_list[2].rename(columns={'BP': 'Position'}, inplace=True)\n",
    "fifa_df_list[0]"
   ]
  },
  {
   "cell_type": "markdown",
   "metadata": {
    "pycharm": {
     "name": "#%% md\n"
    }
   },
   "source": [
    "### Clean EPL data"
   ]
  },
  {
   "cell_type": "code",
   "execution_count": null,
   "metadata": {
    "pycharm": {
     "name": "#%%\n"
    }
   },
   "outputs": [],
   "source": [
    "epl20_21_df.loc[:, 'Position'] = epl20_21_df['Position'].str.split(pat=',', n=1).str[0]\n",
    "epl20_21_df"
   ]
  },
  {
   "cell_type": "markdown",
   "metadata": {
    "pycharm": {
     "name": "#%% md\n"
    }
   },
   "source": [
    "### Filter premier league teams\n",
    "These data are from the game FIFA, and it will be used to supplement missing values.<br>As such, it will be wise to filter the data to only include the premier league teams."
   ]
  },
  {
   "cell_type": "code",
   "execution_count": null,
   "metadata": {
    "pycharm": {
     "name": "#%%\n"
    }
   },
   "outputs": [],
   "source": [
    "pl_team_list = ['Arsenal', 'Aston Villa', 'Brentford', 'Brighton & Hove Albion', 'Burnley', 'Chelsea', 'Crystal Palace', 'Everton', 'Leicester City', 'Liverpool', 'Manchester City', 'Manchester United', 'Newcastle United', 'Norwich City', 'Sheffield United', 'Southampton', 'Tottenham Hotspur', 'Watford', 'West Ham United', 'Wolverhampton Wanderers']\n",
    "\n",
    "# Filter teams\n",
    "for i in range(len(fifa_df_list)):\n",
    "    fifa_df_list[i] = fifa_df_list[i][fifa_df_list[i]['Club'].isin(values=pl_team_list)]\n",
    "    fifa_df_list[i] = fifa_df_list[i].drop(columns=['Club'])\n",
    "fifa_df_list[0]"
   ]
  },
  {
   "cell_type": "markdown",
   "metadata": {
    "pycharm": {
     "name": "#%% md\n"
    }
   },
   "source": [
    "### Clean FIFA data"
   ]
  },
  {
   "cell_type": "code",
   "execution_count": null,
   "metadata": {
    "pycharm": {
     "name": "#%%\n"
    }
   },
   "outputs": [],
   "source": [
    "forwards = ['RW', 'LW', 'CF', 'ST', 'LS', 'RS']\n",
    "midfielders = ['RCM', 'CAM', 'LCM', 'RDM', 'CDM', 'LM', 'LDM', 'RM', 'CM']\n",
    "defenders = ['CB', 'RB', 'LB', 'RWB', 'LWB', 'RCB', 'LCB']\n",
    "\n",
    "\n",
    "\n",
    "fifa_df_list[0].loc[:, 'Position'] = fifa_df_list[0]['Position'].str.split(pat=',', n=1).str[0]\n",
    "fifa_df_list[1].loc[:, 'Position'] = fifa_df_list[1]['Position'].str.split(pat='>', n=2).str[1]\n",
    "\n",
    "# Set sub and reserves to null\n",
    "fifa_df_list[1]['Position'].replace(to_replace='SUB', value=numpy.nan, inplace=True)\n",
    "fifa_df_list[1]['Position'].replace(to_replace='RES', value=numpy.nan, inplace=True)\n",
    "\n",
    "# Clean position\n",
    "for i in range(len(fifa_df_list)):\n",
    "    fifa_df_list[i].loc[fifa_df_list[i]['Position'].isin(values=forwards), 'Position'] = 'FW'\n",
    "    fifa_df_list[i].loc[fifa_df_list[i]['Position'].isin(values=midfielders), 'Position'] = 'MF'\n",
    "    fifa_df_list[i].loc[fifa_df_list[i]['Position'].isin(values=defenders), 'Position'] = 'DF'\n",
    "fifa_df_list[0]"
   ]
  },
  {
   "cell_type": "markdown",
   "metadata": {
    "pycharm": {
     "name": "#%% md\n"
    }
   },
   "source": [
    "### Define helper functions"
   ]
  },
  {
   "cell_type": "code",
   "execution_count": null,
   "metadata": {
    "pycharm": {
     "name": "#%%\n"
    }
   },
   "outputs": [],
   "source": [
    "def standardise_na(dataframe: pandas.DataFrame) -> None:\n",
    "    \"\"\"\n",
    "    Standardise NaN values in a dataframe.\n",
    "    :param dataframe: Dataframe to standardise NaN values in.\n",
    "    \"\"\"\n",
    "    possible_nas = ['None', 'NA', 'Nan', 'NAN', 'NaN', 'nan', 'na', 'N/A', 'none', 'null']\n",
    "\n",
    "    for column in dataframe.columns:\n",
    "        dataframe.loc[dataframe[column].astype(dtype=str).isin(values=possible_nas), column] = numpy.nan\n",
    "\n",
    "def combine_names(dataframe: pandas.DataFrame) -> None:\n",
    "    \"\"\"\n",
    "    Combine first and last name into one column.\n",
    "    :param dataframe: Dataframe to combine names in.\n",
    "    \"\"\"\n",
    "    dataframe['full_name'] = dataframe['first_name'] + ' ' + dataframe['second_name']\n",
    "    dataframe.drop(columns=['first_name', 'second_name'], inplace=True)\n",
    "\n",
    "def merge_df(df1: pandas.DataFrame, df2: pandas.DataFrame) -> pandas.DataFrame:\n",
    "    \"\"\"\n",
    "    Merge two dataframes. Will only keep columns in df1.\n",
    "    :param df1: Main dataframe.\n",
    "    :param df2: Secondary dataframe.\n",
    "    :return: Combined dataframe.\n",
    "    \"\"\"\n",
    "    combined = df1.merge(right=df2, how='left', left_on='full_name', right_on='full_name', suffixes=('', '_'))\n",
    "\n",
    "    for column in df1.columns:\n",
    "       if column in df2.columns and (df1[column].dtype == 'int64' or df1[column].dtype == 'float64') and column != 'team':\n",
    "          combined[column] = combined[[column, column + '_']].mean(numeric_only=True, axis=1)\n",
    "\n",
    "    return combined[df1.columns]"
   ]
  },
  {
   "cell_type": "markdown",
   "metadata": {
    "pycharm": {
     "name": "#%% md\n"
    }
   },
   "source": [
    "### Clean Nan values & combine names"
   ]
  },
  {
   "cell_type": "code",
   "execution_count": null,
   "metadata": {
    "pycharm": {
     "name": "#%%\n"
    }
   },
   "outputs": [],
   "source": [
    "for df in players_raw_list:\n",
    "    standardise_na(dataframe=df)\n",
    "    combine_names(dataframe=df)\n",
    "\n",
    "players_raw_list[0]"
   ]
  },
  {
   "cell_type": "markdown",
   "metadata": {
    "pycharm": {
     "name": "#%% md\n"
    }
   },
   "source": [
    "### Merge all dataframes into one"
   ]
  },
  {
   "cell_type": "code",
   "execution_count": null,
   "metadata": {
    "pycharm": {
     "name": "#%%\n"
    }
   },
   "outputs": [],
   "source": [
    "merged_df = players_raw_list[0]\n",
    "\n",
    "for i in range(1, len(players_raw_list) - 1):\n",
    "    merged_df = merge_df(df1=players_raw_list[i], df2=merged_df)\n",
    "\n",
    "merged_df"
   ]
  },
  {
   "cell_type": "markdown",
   "metadata": {
    "pycharm": {
     "name": "#%% md\n"
    }
   },
   "source": [
    "### Merge on different dataset to fill positions"
   ]
  },
  {
   "cell_type": "code",
   "execution_count": null,
   "metadata": {
    "pycharm": {
     "name": "#%%\n"
    }
   },
   "outputs": [],
   "source": [
    "merged_df = merged_df.merge(right=epl20_21_df[['Name', 'Position']], how='left', left_on='full_name', right_on='Name')\n",
    "merged_df"
   ]
  },
  {
   "cell_type": "markdown",
   "metadata": {
    "pycharm": {
     "name": "#%% md\n"
    }
   },
   "source": [
    "### Perform fuzzy matching on names and fill in matched names"
   ]
  },
  {
   "cell_type": "code",
   "execution_count": null,
   "metadata": {
    "pycharm": {
     "name": "#%%\n"
    }
   },
   "outputs": [],
   "source": [
    "def fuzzy_match(df1: pandas.DataFrame, df2: pandas.DataFrame, threshold: int) -> pandas.DataFrame:\n",
    "    \"\"\"\n",
    "    Fuzzy match names on two dataframes.\n",
    "    Reference: https://towardsdatascience.com/fuzzywuzzy-basica-and-merging-datasets-on-names-with-different-transcriptions-e2bb6e179fbf\n",
    "    :param df1: dataframe 1.\n",
    "    :param df2: dataframe 2.\n",
    "    :param threshold: threshold for fuzzy matching.\n",
    "    \"\"\"\n",
    "    # Get rows with missing names\n",
    "    null_row_list = df1[df1['Name'].isna()]\n",
    "\n",
    "    # Match names\n",
    "    keys = {}\n",
    "    for name in null_row_list['full_name']:\n",
    "        temp = (process.extract(query=name, choices=df2['Name'], limit=1))\n",
    "        if temp[0][1] > threshold:\n",
    "            keys[name] = temp[0][0]\n",
    "\n",
    "    # Fill names\n",
    "    df1['Name'].fillna(value=df1['full_name'].map(keys), inplace=True)\n",
    "\n",
    "    # Merge datasets\n",
    "    df1 = df1.merge(right=df2, how='left', left_on='Name', right_on='Name', suffixes=('', '_'))\n",
    "\n",
    "    # Fill missing values and cLean up columns\n",
    "    df1['Position'].fillna(value=df1['Position_'], inplace=True)\n",
    "    df1.drop(columns=['Position_'], inplace=True)\n",
    "\n",
    "    return df1"
   ]
  },
  {
   "cell_type": "code",
   "execution_count": null,
   "metadata": {
    "pycharm": {
     "name": "#%%\n"
    }
   },
   "outputs": [],
   "source": [
    "for i in range(90, 60, -10):\n",
    "    for df in fifa_df_list:\n",
    "        merged_df = fuzzy_match(df1=merged_df, df2=df, threshold=i)\n",
    "\n",
    "merged_df.dropna(subset=['Position'], inplace=True)"
   ]
  },
  {
   "cell_type": "markdown",
   "metadata": {
    "pycharm": {
     "name": "#%% md\n"
    }
   },
   "source": [
    "### Create new club column based on team"
   ]
  },
  {
   "cell_type": "code",
   "execution_count": null,
   "metadata": {
    "pycharm": {
     "name": "#%%\n"
    }
   },
   "outputs": [],
   "source": [
    "pl_dict = dict(zip([i for i in range(1, 21)], pl_team_list))\n",
    "merged_df['Club'] = merged_df['team'].map(pl_dict)"
   ]
  },
  {
   "cell_type": "markdown",
   "metadata": {
    "pycharm": {
     "name": "#%% md\n"
    }
   },
   "source": [
    "### Clean up columns"
   ]
  },
  {
   "cell_type": "code",
   "execution_count": null,
   "metadata": {
    "pycharm": {
     "name": "#%%\n"
    }
   },
   "outputs": [],
   "source": [
    "merged_df.drop(columns=['Name', 'team'], inplace=True)\n",
    "merged_df.rename(columns={'total_points': 'Total Points', 'full_name': 'Name'}, inplace=True)"
   ]
  },
  {
   "cell_type": "code",
   "execution_count": null,
   "metadata": {
    "pycharm": {
     "name": "#%%\n"
    }
   },
   "outputs": [],
   "source": [
    "merged_df.drop_duplicates(subset=['Name'], inplace=True)"
   ]
  },
  {
   "cell_type": "markdown",
   "metadata": {
    "pycharm": {
     "name": "#%% md\n"
    }
   },
   "source": [
    "### Export to csv"
   ]
  },
  {
   "cell_type": "code",
   "execution_count": null,
   "metadata": {
    "pycharm": {
     "name": "#%%\n"
    }
   },
   "outputs": [],
   "source": [
    "merged_df[['Total Points', 'Name', 'Position', 'Club']].to_csv(path_or_buf='./clean_data/scenario_1/dataset.csv', index=False)"
   ]
  },
  {
   "cell_type": "markdown",
   "metadata": {
    "pycharm": {
     "name": "#%% md\n"
    }
   },
   "source": [
    "### Prepare and export costs data for year to model for (2021/2022)"
   ]
  },
  {
   "cell_type": "code",
   "execution_count": null,
   "metadata": {
    "pycharm": {
     "name": "#%%\n"
    }
   },
   "outputs": [],
   "source": [
    "latest_data = pandas.read_csv(filepath_or_buffer='./raw_data/scenario_1/players_raw_21_22.csv')\n",
    "costs_data = latest_data[['now_cost', 'first_name', 'second_name']]\n",
    "combine_names(dataframe=costs_data)\n",
    "costs_data.rename(columns={'now_cost': 'Cost', 'full_name': 'Name'}, inplace=True)\n",
    "costs_data.to_csv(path_or_buf='./clean_data/scenario_1/costs_dataset.csv', index=False)"
   ]
  },
  {
   "cell_type": "code",
   "execution_count": null,
   "metadata": {},
   "outputs": [],
   "source": [
    "evaluator_data = latest_data[['total_points', 'first_name', 'second_name']]\n",
    "combine_names(dataframe=evaluator_data)\n",
    "evaluator_data.rename(columns={'total_points': 'Total Points', 'full_name': 'Name'}, inplace=True)\n",
    "evaluator_data.to_csv(path_or_buf='./clean_data/scenario_1/evaluator_dataset.csv', index=False)"
   ]
  },
  {
   "cell_type": "markdown",
   "metadata": {
    "pycharm": {
     "name": "#%% md\n"
    }
   },
   "source": [
    "## 2. Build Model to Solve Initial Squad Problem\n",
    "### Read datasets"
   ]
  },
  {
   "cell_type": "code",
   "execution_count": null,
   "metadata": {
    "pycharm": {
     "name": "#%%\n"
    }
   },
   "outputs": [],
   "source": [
    "dataset = pandas.read_csv(filepath_or_buffer='./clean_data/scenario_1/dataset.csv')\n",
    "dataset"
   ]
  },
  {
   "cell_type": "code",
   "execution_count": null,
   "metadata": {
    "pycharm": {
     "name": "#%%\n"
    }
   },
   "outputs": [],
   "source": [
    "costs_dataset = pandas.read_csv(filepath_or_buffer='./clean_data/scenario_1/costs_dataset.csv')\n",
    "costs_dataset"
   ]
  },
  {
   "cell_type": "code",
   "execution_count": null,
   "metadata": {},
   "outputs": [],
   "source": [
    "evaluator_dataset = pandas.read_csv(filepath_or_buffer='./clean_data/scenario_1/evaluator_dataset.csv')\n",
    "evaluator_dataset"
   ]
  },
  {
   "cell_type": "markdown",
   "metadata": {
    "pycharm": {
     "name": "#%% md\n"
    }
   },
   "source": [
    "### Declare function"
   ]
  },
  {
   "cell_type": "code",
   "execution_count": null,
   "metadata": {
    "pycharm": {
     "name": "#%%\n"
    }
   },
   "outputs": [],
   "source": [
    "def onehot_encode(data: pandas.Series) -> (numpy.ndarray, LabelEncoder):\n",
    "    \"\"\"\n",
    "    One-hot encodes data, returns 2D array and encoder that \n",
    "    can be used to reverse encoding to retrieve original data.\n",
    "    Reference: https://machinelearningmastery.com/how-to-one-hot-encode-sequence-data-in-python/\n",
    "    :param data: 1D data with categorical values.\n",
    "    :returns encoded: 2D encoded values.\n",
    "    :returns label_encoder: Encoder, can be used to reverse encoding to retrieve original values.\n",
    "    \n",
    "    To reverse encoding: label_encoder.inverse_transform([argmax(encoded[0, :])])\n",
    "    \"\"\"\n",
    "    label_encoder = LabelEncoder()\n",
    "    int_encoded = label_encoder.fit_transform(y=data)\n",
    "    int_encoded = int_encoded.reshape(len(int_encoded), 1)\n",
    "\n",
    "    onehot_encoder = OneHotEncoder(sparse=False)\n",
    "    encoded = onehot_encoder.fit_transform(X=int_encoded)\n",
    "    return encoded, label_encoder"
   ]
  },
  {
   "cell_type": "markdown",
   "metadata": {
    "pycharm": {
     "name": "#%% md\n"
    }
   },
   "source": [
    "### Create model to select squad"
   ]
  },
  {
   "cell_type": "code",
   "execution_count": null,
   "metadata": {
    "pycharm": {
     "name": "#%%\n"
    }
   },
   "outputs": [],
   "source": [
    "def merge_df_on_name(dataframe: pandas.DataFrame, costs_df: pandas.DataFrame) -> pandas.DataFrame:\n",
    "    \"\"\"\n",
    "    Prepares data for model. Merges historical df with current season's costs.\n",
    "    Takes intersection of keys.\n",
    "    :param dataframe: Dataframe with all players.\n",
    "    :param costs_df: Dataframe with player names and current costs.\n",
    "    :return: Merged Dataframe.\n",
    "    \"\"\"\n",
    "    return dataframe.merge(right=costs_df, how='inner', on='Name')\n",
    "    \n",
    "def solve_model(dataframe: pandas.DataFrame, budget: int) -> (numpy.ndarray, float):\n",
    "    \"\"\"\n",
    "    Solves model given data and budget.\n",
    "    :param dataframe: Dataframe with all players.\n",
    "    :param budget: Budget to use.\n",
    "    :return: Results from solved model.\n",
    "    \"\"\"    \n",
    "    x = dataframe['Total Points'].to_numpy()\n",
    "    p = dataframe['Cost'].to_numpy()\n",
    "    (pos_matrix, _) = onehot_encode(data=dataframe['Position'])\n",
    "    (t, _) = onehot_encode(data=dataframe['Club'])\n",
    "    max_players_per_team = 3\n",
    "    max_players = 15\n",
    "\n",
    "    # Position requirement: DF, FW, GK, MF\n",
    "    position_req = numpy.array([5, 3, 2, 5])\n",
    "\n",
    "    model = ro.Model(name='Initial Squad')\n",
    "\n",
    "    # Define binary decision variables - players to choose\n",
    "    y = model.dvar(shape=len(dataframe), vtype='B')\n",
    "\n",
    "    model.max(y @ x)\n",
    "\n",
    "    model.st(y @ p <= budget)\n",
    "    model.st(y.sum() <= max_players)\n",
    "    model.st(y @ t <= max_players_per_team)\n",
    "    model.st(y @ pos_matrix == position_req)\n",
    "\n",
    "    model.solve(solver=grb_solver, display=False)\n",
    "\n",
    "    return y.get(), model.get()"
   ]
  },
  {
   "cell_type": "markdown",
   "metadata": {
    "pycharm": {
     "name": "#%% md\n"
    }
   },
   "source": [
    "### Solve model"
   ]
  },
  {
   "cell_type": "code",
   "execution_count": null,
   "metadata": {
    "pycharm": {
     "name": "#%%\n"
    }
   },
   "outputs": [],
   "source": [
    "# budget is in 100,000\n",
    "price_budget = 1000\n",
    "\n",
    "dataset = merge_df_on_name(dataframe=dataset, costs_df=costs_dataset)\n",
    "solved_y, solved_model = solve_model(dataframe=dataset, budget=price_budget)\n",
    "dataset[solved_y == 1][['Name', 'Position', 'Club', 'Cost', 'Total Points']]"
   ]
  },
  {
   "cell_type": "code",
   "execution_count": null,
   "metadata": {
    "pycharm": {
     "name": "#%%\n"
    }
   },
   "outputs": [],
   "source": [
    "dataset[solved_y == 1].sum(numeric_only=True)"
   ]
  },
  {
   "cell_type": "markdown",
   "metadata": {},
   "source": [
    "### Evaluate Models against Current Season"
   ]
  },
  {
   "cell_type": "code",
   "execution_count": null,
   "metadata": {},
   "outputs": [],
   "source": [
    "print(\"Points earned by chosen lineup in 2021/2022 season:\", dataset[solved_y == 1].merge(right=evaluator_data, how='left', left_on=\"Name\", right_on=\"Name\")['Total Points_y'].sum())"
   ]
  },
  {
   "cell_type": "markdown",
   "metadata": {
    "pycharm": {
     "name": "#%% md\n"
    }
   },
   "source": [
    "### Export initial squad for Scenario 2"
   ]
  },
  {
   "cell_type": "code",
   "execution_count": null,
   "metadata": {
    "pycharm": {
     "name": "#%%\n"
    }
   },
   "outputs": [],
   "source": [
    "dataset[solved_y == 1].to_csv('./clean_data/scenario_2/dataset.csv', index=False)"
   ]
  },
  {
   "cell_type": "markdown",
   "metadata": {
    "pycharm": {
     "name": "#%% md\n"
    }
   },
   "source": [
    "## 3. Sensitivity Analysis\n",
    "\n",
    "### Change the budget to see the effect on points"
   ]
  },
  {
   "cell_type": "code",
   "execution_count": null,
   "metadata": {
    "pycharm": {
     "name": "#%%\n"
    }
   },
   "outputs": [],
   "source": [
    "analysis_df = pandas.DataFrame(columns=['Budget', 'Total Points'], dtype=float)\n",
    "\n",
    "for var_budget in range(650, 1650, 50):\n",
    "    solved_y, solved_model = solve_model(dataframe=dataset, budget=var_budget)\n",
    "    temp_df = pandas.DataFrame(data=[[var_budget, sum(dataset['Total Points'][solved_y == 1])]], columns=['Budget', 'Total Points'])\n",
    "    analysis_df = pandas.concat(objs=[analysis_df, temp_df])\n",
    "analysis_df.plot(x='Budget', y='Total Points', kind='line', figsize=(20, 10), title='Total Points vs Budget (in 100,000)')"
   ]
  }
 ],
 "metadata": {
  "kernelspec": {
   "display_name": "Python 3 (ipykernel)",
   "language": "python",
   "name": "python3"
  },
  "language_info": {
   "codemirror_mode": {
    "name": "ipython",
    "version": 3
   },
   "file_extension": ".py",
   "mimetype": "text/x-python",
   "name": "python",
   "nbconvert_exporter": "python",
   "pygments_lexer": "ipython3",
   "version": "3.9.12"
  }
 },
 "nbformat": 4,
 "nbformat_minor": 1
}