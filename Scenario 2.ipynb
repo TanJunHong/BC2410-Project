{
 "cells": [
  {
   "cell_type": "markdown",
   "metadata": {
    "pycharm": {
     "name": "#%% md\n"
    }
   },
   "source": [
    "# Scenario 2 - Passive Manager: Choosing Starting 11 and Captain\n",
    "## Import required libraries"
   ]
  },
  {
   "cell_type": "code",
   "execution_count": null,
   "metadata": {
    "pycharm": {
     "name": "#%%\n"
    }
   },
   "outputs": [],
   "source": [
    "import pandas\n",
    "import numpy\n",
    "from sklearn.preprocessing import LabelEncoder\n",
    "from sklearn.preprocessing import OneHotEncoder\n",
    "from rsome import ro\n",
    "from rsome import grb_solver"
   ]
  },
  {
   "cell_type": "markdown",
   "metadata": {
    "pycharm": {
     "name": "#%% md\n"
    }
   },
   "source": [
    "## 1. Build Model to Solve Starting 11 Problem\n",
    "### Read dataset"
   ]
  },
  {
   "cell_type": "code",
   "execution_count": null,
   "metadata": {
    "pycharm": {
     "name": "#%%\n"
    }
   },
   "outputs": [],
   "source": [
    "dataset = pandas.read_csv(filepath_or_buffer='./clean_data/scenario_2/dataset.csv')\n",
    "dataset"
   ]
  },
  {
   "cell_type": "markdown",
   "metadata": {
    "pycharm": {
     "name": "#%% md\n"
    }
   },
   "source": [
    "### Declare function"
   ]
  },
  {
   "cell_type": "code",
   "execution_count": null,
   "metadata": {
    "pycharm": {
     "name": "#%%\n"
    }
   },
   "outputs": [],
   "source": [
    "def onehot_encode(data: pandas.Series) -> (numpy.ndarray, LabelEncoder):\n",
    "    \"\"\"\n",
    "    One-hot encodes data, returns 2D array and encoder that \n",
    "    can be used to reverse encoding to retrieve original data.\n",
    "    Reference: https://machinelearningmastery.com/how-to-one-hot-encode-sequence-data-in-python/\n",
    "    :param data: 1D data with categorical values.\n",
    "    :returns encoded: 2D encoded values.\n",
    "    :returns label_encoder: Encoder, can be used to reverse encoding to retrieve original values.\n",
    "    \n",
    "    To reverse encoding: label_encoder.inverse_transform([argmax(encoded[0, :])])\n",
    "    \"\"\"\n",
    "    label_encoder = LabelEncoder()\n",
    "    int_encoded = label_encoder.fit_transform(y=data)\n",
    "    int_encoded = int_encoded.reshape(len(int_encoded), 1)\n",
    "\n",
    "    onehot_encoder = OneHotEncoder(sparse=False)\n",
    "    encoded = onehot_encoder.fit_transform(X=int_encoded)\n",
    "    return encoded, label_encoder"
   ]
  },
  {
   "cell_type": "markdown",
   "metadata": {
    "pycharm": {
     "name": "#%% md\n"
    }
   },
   "source": [
    "### Create model to select starting 11"
   ]
  },
  {
   "cell_type": "code",
   "execution_count": null,
   "metadata": {
    "pycharm": {
     "name": "#%%\n"
    }
   },
   "outputs": [],
   "source": [
    "def solve_model(dataframe: pandas.DataFrame) -> (numpy.ndarray, numpy.ndarray, float):\n",
    "    \"\"\"\n",
    "    Solves model given data.\n",
    "    :param dataframe: Dataframe with all players.\n",
    "    :return: Results from solved model.\n",
    "    \"\"\"\n",
    "    x = dataframe['Total Points'].to_numpy()\n",
    "    (pos_matrix, _) = onehot_encode(data=dataframe['Position'])\n",
    "    max_players = 11\n",
    "    max_captain = 1\n",
    "\n",
    "    # Position requirement: GK, DEF, FWD\n",
    "    g = pos_matrix[:,2]\n",
    "    d = pos_matrix[:,0]\n",
    "    f = pos_matrix[:,1]\n",
    "    g_constraint = 1\n",
    "    d_constraint = 3\n",
    "    f_constraint = 1\n",
    "    \n",
    "    model = ro.Model(name='Starting 11')\n",
    "\n",
    "    # Define binary decision variables - y: players to choose, z: captain to choose\n",
    "    y = model.dvar(shape=len(dataframe), vtype='B')\n",
    "    z = model.dvar(shape=len(dataframe), vtype='B')\n",
    "\n",
    "    model.max(x @ (y + z))\n",
    "\n",
    "    model.st(y.sum() == max_players)\n",
    "    model.st(z.sum() == max_captain)\n",
    "    model.st(y @ g == g_constraint,\n",
    "             y @ d >= d_constraint,\n",
    "             y @ f >= f_constraint)\n",
    "\n",
    "    model.solve(solver=grb_solver, display=False)\n",
    "\n",
    "    return y.get(), z.get(), model.get()"
   ]
  },
  {
   "cell_type": "markdown",
   "metadata": {
    "pycharm": {
     "name": "#%% md\n"
    }
   },
   "source": [
    "### Solve model"
   ]
  },
  {
   "cell_type": "code",
   "execution_count": null,
   "metadata": {
    "pycharm": {
     "name": "#%%\n"
    }
   },
   "outputs": [],
   "source": [
    "solved_y, solved_z, solved_model = solve_model(dataframe=dataset)\n",
    "dataset[solved_y == 1]"
   ]
  },
  {
   "cell_type": "code",
   "execution_count": null,
   "metadata": {
    "pycharm": {
     "name": "#%%\n"
    }
   },
   "outputs": [],
   "source": [
    "dataset[solved_z == 1]"
   ]
  },
  {
   "cell_type": "code",
   "execution_count": null,
   "metadata": {
    "pycharm": {
     "name": "#%%\n"
    }
   },
   "outputs": [],
   "source": [
    "print(\"Total Points:\", dataset[solved_y == 1]['Total Points'].sum() + dataset[solved_z == 1]['Total Points'].sum())\n",
    "print(\"\\nCaptain:\\n\", dataset[solved_z == 1][['Name', 'Total Points', 'Position']])\n",
    "print(\"\\nStarting 11:\\n\", dataset[solved_y == 1][['Name', 'Total Points', 'Position']])"
   ]
  }
 ],
 "metadata": {
  "kernelspec": {
   "display_name": "Python 3 (ipykernel)",
   "language": "python",
   "name": "python3"
  },
  "language_info": {
   "codemirror_mode": {
    "name": "ipython",
    "version": 3
   },
   "file_extension": ".py",
   "mimetype": "text/x-python",
   "name": "python",
   "nbconvert_exporter": "python",
   "pygments_lexer": "ipython3",
   "version": "3.9.12"
  }
 },
 "nbformat": 4,
 "nbformat_minor": 2
}