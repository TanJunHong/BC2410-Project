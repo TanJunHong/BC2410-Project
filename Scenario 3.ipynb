{
 "cells": [
  {
   "cell_type": "markdown",
   "metadata": {
    "collapsed": true,
    "pycharm": {
     "name": "#%% md\n"
    }
   },
   "source": [
    "# Scenario 3 - Active Manager\n",
    "## Import required libraries"
   ]
  },
  {
   "cell_type": "code",
   "execution_count": null,
   "metadata": {
    "pycharm": {
     "name": "#%%\n"
    }
   },
   "outputs": [],
   "source": [
    "import numpy\n",
    "import pandas\n",
    "from numpy import arange\n",
    "from sklearn.preprocessing import LabelEncoder\n",
    "from sklearn.preprocessing import OneHotEncoder\n",
    "from rsome import ro\n",
    "from rsome import grb_solver"
   ]
  },
  {
   "cell_type": "markdown",
   "metadata": {
    "pycharm": {
     "name": "#%% md\n"
    }
   },
   "source": [
    "## 1 Game Week Data"
   ]
  },
  {
   "cell_type": "markdown",
   "metadata": {
    "pycharm": {
     "name": "#%% md\n"
    }
   },
   "source": [
    "### Import all gw data (16-21)\n",
    "The current season's data (21/22) will not be included since it is being updated weekly."
   ]
  },
  {
   "cell_type": "code",
   "execution_count": null,
   "metadata": {
    "pycharm": {
     "name": "#%%\n"
    }
   },
   "outputs": [],
   "source": [
    "gw_df_list = [pandas.read_csv(filepath_or_buffer='./raw_data/scenario_3/gw_' + str(i) + '_' + str(i + 1) + '.csv', encoding_errors='ignore') for i in range(16, 21)]"
   ]
  },
  {
   "cell_type": "markdown",
   "metadata": {
    "pycharm": {
     "name": "#%% md\n"
    }
   },
   "source": [
    "### Define helper functions"
   ]
  },
  {
   "cell_type": "code",
   "execution_count": null,
   "metadata": {
    "pycharm": {
     "name": "#%%\n"
    }
   },
   "outputs": [],
   "source": [
    "def append_season(df: pandas.DataFrame, season: str) -> None:\n",
    "    \"\"\"\n",
    "    Appends new column \"season\" to df.\n",
    "    :param df: Dataframe to be edited.\n",
    "    :param season: Season to be appended.\n",
    "    \"\"\"\n",
    "    df[\"season\"] = season\n",
    "\n",
    "def clean_names(df: pandas.DataFrame) -> None:\n",
    "    \"\"\"\n",
    "    Cleans 'name' column to remove numbers and underscores.\n",
    "    :param df: Dataframe to be cleaned.\n",
    "    \"\"\"\n",
    "    df['name'] = df['name'].map(lambda x: x.rstrip('_0123456789').replace('_', ' '))\n",
    "\n",
    "def fill_missing_gw(dataframe: pandas.DataFrame) -> pandas.DataFrame:\n",
    "    \"\"\"\n",
    "    Fills missing game weeks in dataframe.\n",
    "    :param dataframe: Dataframe to be cleaned.\n",
    "    :return: Cleaned dataframe.\n",
    "    \"\"\"\n",
    "    name = dataframe.at[0, 'name']\n",
    "    # multiples of 38, indicating first row of each player\n",
    "    number = 0\n",
    "    # last row number\n",
    "    last = 0\n",
    "    for i in range(len(dataframe)):\n",
    "        if dataframe.at[i, 'name'] != name:\n",
    "            number += 38\n",
    "            name = dataframe.at[i, 'name']\n",
    "        last = number + dataframe.at[i, 'GW'] - 1\n",
    "        dataframe.at[i, 'index'] = last\n",
    "\n",
    "    new_index = pandas.Index(arange(0,last + 1), name=\"index\")\n",
    "    dataframe = dataframe.set_index(keys=\"index\")\n",
    "    dataframe = dataframe.reindex(new_index)\n",
    "\n",
    "    # Fill NaN rows with name, gw accordingly. Set points = 0\n",
    "    name = dataframe.at[0, 'name']\n",
    "    value = dataframe.at[0, 'value']\n",
    "    for i in range(len(dataframe)):\n",
    "        if i % 38 == 0:\n",
    "            j = i\n",
    "            while pandas.isna(obj=dataframe.at[j, 'name']):\n",
    "                j += 1\n",
    "            name = dataframe.at[j, 'name']\n",
    "            value = dataframe.at[j, 'value']\n",
    "        if pandas.isna(obj=dataframe.at[i, 'name']):\n",
    "            dataframe.at[i, 'name'] = name\n",
    "            dataframe.at[i, 'GW'] = (i % 38) + 1\n",
    "            dataframe.at[i, 'value'] = value\n",
    "            dataframe.at[i, 'total_points'] = 0\n",
    "    return dataframe"
   ]
  },
  {
   "cell_type": "markdown",
   "metadata": {
    "pycharm": {
     "name": "#%% md\n"
    }
   },
   "source": [
    "### Use helper functions to clean gw data"
   ]
  },
  {
   "cell_type": "code",
   "execution_count": null,
   "metadata": {
    "pycharm": {
     "name": "#%%\n"
    }
   },
   "outputs": [],
   "source": [
    "for i in range(16, 21):\n",
    "    append_season(df=gw_df_list[i - 16], season='20' + str(i) + '/20' + str(i + 1))\n",
    "    \n",
    "# Clean names\n",
    "for i in gw_df_list:\n",
    "    print(\"before: '\" + i.loc[0]['name'], end=\"' | \")\n",
    "    clean_names(df=i)\n",
    "    print(\"after: '\" + i.loc[0]['name'] + \"'\")\n",
    "\n",
    "gw_df = pandas.concat(objs=gw_df_list)\n",
    "gw_df"
   ]
  },
  {
   "cell_type": "markdown",
   "metadata": {
    "pycharm": {
     "name": "#%% md\n"
    }
   },
   "source": [
    "### Clean data to get average scores for each player in each gameweek"
   ]
  },
  {
   "cell_type": "code",
   "execution_count": null,
   "metadata": {
    "pycharm": {
     "name": "#%%\n"
    }
   },
   "outputs": [],
   "source": [
    "# Get non-null position rows and put them in dict\n",
    "non_null_pos = gw_df[gw_df['position'].notna()]\n",
    "names_dict = dict(zip(non_null_pos['name'], non_null_pos['position']))\n",
    "\n",
    "# Get non-null team rows and put them in dict\n",
    "non_null_teams = gw_df[gw_df['team'].notna()]\n",
    "teams_dict = dict(zip(non_null_teams['name'], non_null_teams['team']))"
   ]
  },
  {
   "cell_type": "markdown",
   "metadata": {
    "pycharm": {
     "name": "#%% md\n"
    }
   },
   "source": [
    "### Clean data to get cumulative weighted scores for each player in each game week\n",
    "Scores for each gameweek in this year will be a weighted average of the score that week and the scores from past games"
   ]
  },
  {
   "cell_type": "code",
   "execution_count": null,
   "metadata": {
    "pycharm": {
     "name": "#%%\n"
    }
   },
   "outputs": [],
   "source": [
    "# Combine previous years dataset\n",
    "prev_df = pandas.concat(objs=gw_df_list[:-1]).groupby(by=['name']).mean()\n",
    "prev_df.reset_index(inplace=True)\n",
    "prev_df"
   ]
  },
  {
   "cell_type": "code",
   "execution_count": null,
   "metadata": {
    "pycharm": {
     "name": "#%%\n"
    }
   },
   "outputs": [],
   "source": [
    "# Clean current year dataset\n",
    "curr_df = gw_df_list[-1].copy().groupby(by=['name', 'GW']).mean()\n",
    "curr_df.reset_index(inplace=True)\n",
    "curr_df.drop(index=curr_df[curr_df['GW'] > 38].index, inplace=True)\n",
    "curr_df.sort_values(by=['name', 'GW'], inplace=True)\n",
    "curr_df.reset_index(inplace=True)\n",
    "curr_df"
   ]
  },
  {
   "cell_type": "code",
   "execution_count": null,
   "metadata": {
    "pycharm": {
     "name": "#%%\n"
    }
   },
   "outputs": [],
   "source": [
    "# Remove useless rows from previous years dataset\n",
    "name_list = curr_df['name'].unique().tolist()\n",
    "prev_df = prev_df[prev_df['name'].isin(values=name_list)]\n",
    "prev_df"
   ]
  },
  {
   "cell_type": "code",
   "execution_count": null,
   "metadata": {
    "pycharm": {
     "name": "#%%\n"
    }
   },
   "outputs": [],
   "source": [
    "# Fill missing gw\n",
    "curr_df = fill_missing_gw(dataframe=curr_df)\n",
    "curr_df"
   ]
  },
  {
   "cell_type": "code",
   "execution_count": null,
   "metadata": {
    "pycharm": {
     "name": "#%%\n"
    }
   },
   "outputs": [],
   "source": [
    "def weight_df(curr_dataframe: pandas.DataFrame, prev_dataframe: pandas.DataFrame, curr_weight: float, names_dictionary: dict, teams_dictionary: dict) -> pandas.DataFrame:\n",
    "    \"\"\"\n",
    "    Weight current player data and historical player data differently.\n",
    "    :param curr_dataframe: Dataframe containing current player data.\n",
    "    :param prev_dataframe: Dataframe containing historical player data.\n",
    "    :param curr_weight: Weight of current week (weight = 0.75 means 75% curr, 25% prev).\n",
    "    :param names_dictionary: Dictionary of players and their positions.\n",
    "    :param teams_dictionary: Dictionary of players and their teams.\n",
    "    :return: Weighted dataframe.\n",
    "    \"\"\"\n",
    "    curr_dataframe = curr_dataframe.copy()\n",
    "    prev_dataframe = prev_dataframe.copy()\n",
    "\n",
    "    # Get weighted average of curr and prev\n",
    "    for i in range(len(curr_dataframe)):\n",
    "        if curr_dataframe.at[i, 'GW'] == 1:\n",
    "            curr_name = curr_dataframe.at[i, 'name']\n",
    "            points_column = prev_dataframe[prev_dataframe['name'] == curr_name]['total_points']\n",
    "            if len(points_column) > 0 and not pandas.isna(obj=points_column.values[0]):\n",
    "                curr_dataframe.at[i, 'total_points'] = (1 - curr_weight) * points_column.values[0] + curr_weight * curr_dataframe.at[i, 'total_points']\n",
    "        else:\n",
    "            curr_dataframe.at[i, 'total_points'] = (1 - curr_weight) * curr_dataframe.at[i - 1, 'total_points'] + curr_weight * curr_dataframe.at[i, 'total_points']\n",
    "\n",
    "    # Round to 2 decimal places\n",
    "    curr_dataframe['total_points'] = curr_dataframe['total_points'].round(decimals=2)\n",
    "\n",
    "    # Fill in position and team (disappeared after groupby function)\n",
    "    curr_dataframe['position'] = curr_dataframe[\"name\"].map(names_dictionary)\n",
    "    curr_dataframe['team'] = curr_dataframe[\"name\"].map(teams_dictionary)\n",
    "    \n",
    "    # Drop NA positions\n",
    "    weighted_avg_dataframe = curr_dataframe.dropna(subset=['position'])\n",
    "\n",
    "    # Keep only useful columns\n",
    "    weighted_avg_dataframe = weighted_avg_dataframe[['name', 'GW', 'position', 'team', 'total_points', 'value']]\n",
    "    weighted_avg_dataframe.rename(columns={'name': 'Name', 'position': 'Position', 'team': 'Club', 'total_points': 'Total Points', 'value': 'Cost'}, inplace=True)\n",
    "    \n",
    "    return weighted_avg_dataframe"
   ]
  },
  {
   "cell_type": "code",
   "execution_count": null,
   "metadata": {
    "pycharm": {
     "name": "#%%\n"
    }
   },
   "outputs": [],
   "source": [
    "weight = 0.1\n",
    "weighted_avg_df = weight_df(curr_df, prev_df, weight, names_dict, teams_dict)\n",
    "weighted_avg_df.to_csv(path_or_buf='./clean_data/scenario_3/weighted_avg_' + str(weight) + '.csv', index=True)"
   ]
  },
  {
   "cell_type": "code",
   "execution_count": null,
   "metadata": {
    "pycharm": {
     "name": "#%%\n"
    }
   },
   "outputs": [],
   "source": [
    "weight = 0.5\n",
    "weighted_avg_df = weight_df(curr_df, prev_df, weight, names_dict, teams_dict)\n",
    "weighted_avg_df.to_csv(path_or_buf='./clean_data/scenario_3/weighted_avg_' + str(weight) + '.csv', index=True)"
   ]
  },
  {
   "cell_type": "markdown",
   "metadata": {
    "pycharm": {
     "name": "#%% md\n"
    }
   },
   "source": [
    "## 2. Build Models\n",
    "### Read files"
   ]
  },
  {
   "cell_type": "code",
   "execution_count": null,
   "metadata": {
    "pycharm": {
     "name": "#%%\n"
    }
   },
   "outputs": [],
   "source": [
    "weighted_avg_df_10 = pandas.read_csv(filepath_or_buffer='./clean_data/scenario_3/weighted_avg_0.1.csv')\n",
    "weighted_avg_df_50 = pandas.read_csv(filepath_or_buffer='./clean_data/scenario_3/weighted_avg_0.5.csv')"
   ]
  },
  {
   "cell_type": "markdown",
   "metadata": {
    "pycharm": {
     "name": "#%% md\n"
    }
   },
   "source": [
    "### Declare helper functions"
   ]
  },
  {
   "cell_type": "code",
   "execution_count": null,
   "metadata": {
    "pycharm": {
     "name": "#%%\n"
    }
   },
   "outputs": [],
   "source": [
    "evaluator_data = pandas.read_csv(filepath_or_buffer='./raw_data/scenario_3/gw_21_22.csv')\n",
    "evaluator_data = evaluator_data[['name', 'total_points', 'GW']]\n",
    "evaluator_data = evaluator_data.groupby(by=['name','GW']).mean()\n",
    "evaluator_data.reset_index(inplace=True)"
   ]
  },
  {
   "cell_type": "code",
   "execution_count": null,
   "metadata": {
    "pycharm": {
     "name": "#%%\n"
    }
   },
   "outputs": [],
   "source": [
    "def get_gw_data(data: pandas.DataFrame, game_week: int) -> pandas.DataFrame:\n",
    "    \"\"\"\n",
    "    Gets specific gw data for all players.\n",
    "    :param data: Data containing all game weeks.\n",
    "    :param game_week: Game week to get data for.\n",
    "    :return: Game week data.\n",
    "    \"\"\"\n",
    "    return data[data['GW'] == game_week]\n",
    "\n",
    "def onehot_encode(data: pandas.Series) -> (numpy.ndarray, LabelEncoder):\n",
    "    \"\"\"\n",
    "    One-hot encodes data, returns 2D array and encoder that\n",
    "    can be used to reverse encoding to retrieve original data.\n",
    "\n",
    "    Reference: https://machinelearningmastery.com/how-to-one-hot-encode-sequence-data-in-python/\n",
    "\n",
    "    :param data: 1D data with categorical values.\n",
    "    :returns encoded: 2D encoded values.\n",
    "    :returns label_encoder: Encoder, can be used to reverse encoding to retrieve original values.\n",
    "\n",
    "    To reverse encoding: label_encoder.inverse_transform([argmax(encoded[0, :])])\n",
    "    \"\"\"\n",
    "    label_encoder = LabelEncoder()\n",
    "    int_encoded = label_encoder.fit_transform(y=data)\n",
    "    int_encoded = int_encoded.reshape(len(int_encoded), 1)\n",
    "\n",
    "    onehot_encoder = OneHotEncoder(sparse=False)\n",
    "    encoded = onehot_encoder.fit_transform(X=int_encoded)\n",
    "    return encoded, label_encoder\n",
    "\n",
    "def solve_gw(this_week_data: pandas.DataFrame, game_week_no: int, prev_gw_y_result: pandas.DataFrame) -> (numpy.ndarray, numpy.float64, float):\n",
    "    \"\"\"\n",
    "    Solves for the optimal players for the game week.\n",
    "    :param this_week_data: This week's gw data.\n",
    "    :param game_week_no: GW No.\n",
    "    :param prev_gw_y_result: Prev gw data.\n",
    "    :return: Results from solved model.\n",
    "    \"\"\"\n",
    "\n",
    "    # In 100,000\n",
    "    price_budget = 1000\n",
    "    x = this_week_data['Total Points'].to_numpy()\n",
    "    p = this_week_data['Cost'].to_numpy()\n",
    "    (pos_matrix, _) = onehot_encode(data=this_week_data['Position'])\n",
    "    (t, _) = onehot_encode(data=this_week_data['Club'])\n",
    "    max_players_per_team = 3\n",
    "    max_players = 15\n",
    "\n",
    "    # Position requirement: DF, FW, GK, MF\n",
    "    position_req = numpy.array([5, 3, 2, 5])\n",
    "\n",
    "    model = ro.Model(name=\"Game Week \" + str(game_week_no))\n",
    "\n",
    "    # Define binary decision variables - players to choose\n",
    "    y = model.dvar(shape=len(this_week_data), vtype=\"B\")\n",
    "\n",
    "    # Define penalty variable\n",
    "    z = model.dvar(shape=1) if game_week_no != 1 else 0\n",
    "\n",
    "    # Additional dv for other gw - was player i transferred in?\n",
    "    c = model.dvar(shape=len(this_week_data), vtype=\"B\")\n",
    "\n",
    "    # GW - penalty if transfer\n",
    "    model.max(y @ x - z)\n",
    "\n",
    "    model.st(y.sum() <= max_players)\n",
    "    model.st(y @ p <= price_budget)\n",
    "    model.st(y @ t <= max_players_per_team)\n",
    "    model.st(y @ pos_matrix == position_req)\n",
    "\n",
    "    if game_week_no != 1:\n",
    "        # set C[i]=1 if player is transferred in (1-0), for calculation of penalty\n",
    "        model.st(y - prev_gw_y_result <= c)\n",
    "\n",
    "        # Penalty for transfers: z = max(0, 4 * sum(c) - 4)\n",
    "        model.st(z >= 0, z >= 4 * sum(c) - 4)\n",
    "\n",
    "    model.solve(solver=grb_solver, display=False)\n",
    "\n",
    "    return y.get(), z.get()[0] if game_week_no != 1 else numpy.float64(0),  model.get()"
   ]
  },
  {
   "cell_type": "code",
   "execution_count": null,
   "metadata": {
    "pycharm": {
     "name": "#%%\n"
    }
   },
   "outputs": [],
   "source": [
    "def run_all_gw(all_data: pandas.DataFrame, latest_data: pandas.DataFrame) -> None:\n",
    "    \"\"\"\n",
    "    Runs our model for all game weeks, to select a lineup each week.\n",
    "    :param all_data: Dataframe of weighted player data. Contains all gameweeks of all players.\n",
    "    :param latest_data: Dataframe containing the latest year data to evaluate our model.\n",
    "    \"\"\"\n",
    "    curr_gw_y = None\n",
    "    results_list = []\n",
    "    total_season_points = 0\n",
    "    total_evaluated_season_points = 0\n",
    "\n",
    "    for i in range(1, 39):\n",
    "        game_week_data = get_gw_data(data=all_data, game_week=i)\n",
    "        prev_gw_y = curr_gw_y\n",
    "        curr_gw_y, penalty, solved_model = solve_gw(this_week_data=game_week_data, game_week_no=i, prev_gw_y_result=curr_gw_y)\n",
    "\n",
    "        if i != 1:\n",
    "            transfers_out = game_week_data[(prev_gw_y-curr_gw_y) == 1]['Name'].tolist()\n",
    "            transfers_in = game_week_data[(curr_gw_y-prev_gw_y) == 1]['Name'].tolist()\n",
    "\n",
    "            print(\"Transfer\", len(transfers_out), \"out:\", transfers_out)\n",
    "            print(\"Transfer\", len(transfers_in), \"in:\", transfers_in)\n",
    "            print(\"Penalty:\", penalty)\n",
    "\n",
    "        print(\"Game Week\", i)\n",
    "\n",
    "        curr_team_df = game_week_data[curr_gw_y == 1][['Name', 'Club', 'Position', 'Total Points', 'Cost']]\n",
    "        results_list.append(curr_team_df)\n",
    "        \n",
    "        print(curr_team_df)\n",
    "        \n",
    "        if i <= latest_data['GW'].max():\n",
    "            gw_data = latest_data[latest_data['GW'] == i] \n",
    "            evaluated_total_points = game_week_data[curr_gw_y == 1].merge(right=gw_data, how='left', left_on='Name', right_on='name')['total_points']\n",
    "            total_evaluated_season_points += evaluated_total_points.sum() - penalty\n",
    "            print(\"Total points (evaluated):\", evaluated_total_points.sum() - penalty)\n",
    "        \n",
    "        print(\"Total points:\", sum(curr_team_df['Total Points']))\n",
    "        print(\"Total cost:\", sum(curr_team_df['Cost']))\n",
    "        \n",
    "        total_season_points += sum(curr_team_df['Total Points'])\n",
    "\n",
    "        print()\n",
    "        print()\n",
    "    print(\"Total points earned in season:\", total_season_points)\n",
    "    print(\"Total evaluated points earned in season:\", total_evaluated_season_points)"
   ]
  },
  {
   "cell_type": "code",
   "execution_count": null,
   "metadata": {
    "pycharm": {
     "name": "#%%\n"
    }
   },
   "outputs": [],
   "source": [
    "run_all_gw(weighted_avg_df_10, evaluator_data)"
   ]
  },
  {
   "cell_type": "code",
   "execution_count": null,
   "metadata": {
    "pycharm": {
     "name": "#%%\n"
    }
   },
   "outputs": [],
   "source": [
    "run_all_gw(weighted_avg_df_50, evaluator_data)"
   ]
  }
 ],
 "metadata": {
  "kernelspec": {
   "display_name": "Python 3 (ipykernel)",
   "language": "python",
   "name": "python3"
  },
  "language_info": {
   "codemirror_mode": {
    "name": "ipython",
    "version": 3
   },
   "file_extension": ".py",
   "mimetype": "text/x-python",
   "name": "python",
   "nbconvert_exporter": "python",
   "pygments_lexer": "ipython3",
   "version": "3.9.12"
  }
 },
 "nbformat": 4,
 "nbformat_minor": 1
}